{
  "nbformat": 4,
  "nbformat_minor": 0,
  "metadata": {
    "colab": {
      "provenance": [],
      "authorship_tag": "ABX9TyPjpa75uzKNw5JKom5Sieg8",
      "include_colab_link": true
    },
    "kernelspec": {
      "name": "python3",
      "display_name": "Python 3"
    },
    "language_info": {
      "name": "python"
    }
  },
  "cells": [
    {
      "cell_type": "markdown",
      "metadata": {
        "id": "view-in-github",
        "colab_type": "text"
      },
      "source": [
        "<a href=\"https://colab.research.google.com/github/iqbal-apriza/pythonProject/blob/from_colab/cnn.ipynb\" target=\"_parent\"><img src=\"https://colab.research.google.com/assets/colab-badge.svg\" alt=\"Open In Colab\"/></a>"
      ]
    },
    {
      "cell_type": "code",
      "execution_count": 1,
      "metadata": {
        "id": "6tXL1K2jgZuL"
      },
      "outputs": [],
      "source": [
        "import numpy as np\n",
        "import matplotlib.pyplot as plt"
      ]
    },
    {
      "cell_type": "code",
      "source": [
        "def convolution(data1, data2):\n",
        "    data1_dim = data1.shape\n",
        "    data2_dim = data2.shape\n",
        "    result = np.zeros((data1_dim[0] - data2_dim[0] + 1, data1_dim[1] - data2_dim[1] + 1))\n",
        "    for i in range(data1_dim[0] - data2_dim[0] + 1):\n",
        "        for j in range(data1_dim[1] - data2_dim[1] + 1):\n",
        "            result[i, j] = np.sum(data1[i:i+data2_dim[0], j:j+data2_dim[1]] * data2)\n",
        "    return result\n",
        "\n",
        "def relu(data):\n",
        "    data_dim = data.shape\n",
        "    for i in range(data_dim[0]):\n",
        "        for j in range(data_dim[1]):\n",
        "            if data[i, j] < 0:\n",
        "                data[i, j] = 0\n",
        "    return data\n",
        "\n",
        "def max_pooling(data, size):\n",
        "    data_dim = data.shape\n",
        "    row = int(data_dim[0] / size)\n",
        "    col = int(data_dim[1] / size)\n",
        "    result = np.zeros((row, col))\n",
        "    for i in range(row):\n",
        "        for j in range(col):\n",
        "            result[i, j] = data[i*2:i*2+size, j*2:j*2+size].max()\n",
        "    return result\n",
        "\n",
        "def flat(data):\n",
        "    return data.flatten()"
      ],
      "metadata": {
        "id": "96UvvmA-s5Ij"
      },
      "execution_count": 2,
      "outputs": []
    },
    {
      "cell_type": "code",
      "source": [
        "dataa = np.array([\n",
        "    [0, 0, 1, 0, 0],\n",
        "    [0, 1, 0, 1, 0],\n",
        "    [0, 1, 0, 1, 0],\n",
        "    [0, 1, 0, 1, 0],\n",
        "    [0, 0, 1, 0, 0]\n",
        "])\n",
        "\n",
        "kernel = np.array([\n",
        "    [1, 1],\n",
        "    [1, 0]\n",
        "])\n",
        "\n",
        "targets = [\n",
        "    [1, 0, 0, 0, 0, 0, 0, 0, 0, 0],      # 0\n",
        "    [0, 1, 0, 0, 0, 0, 0, 0, 0, 0],      # 1\n",
        "    [0, 0, 1, 0, 0, 0, 0, 0, 0, 0],      # 2\n",
        "    [0, 0, 0, 1, 0, 0, 0, 0, 0, 0],      # 3\n",
        "    [0, 0, 0, 0, 1, 0, 0, 0, 0, 0],      # 4\n",
        "    [0, 0, 0, 0, 0, 1, 0, 0, 0, 0],      # 5\n",
        "    [0, 0, 0, 0, 0, 0, 1, 0, 0, 0],      # 6\n",
        "    [0, 0, 0, 0, 0, 0, 0, 1, 0, 0],      # 7\n",
        "    [0, 0, 0, 0, 0, 0, 0, 0, 1, 0],      # 8\n",
        "    [0, 0, 0, 0, 0, 0, 0, 0, 0, 1]       # 9\n",
        "]\n",
        "\n",
        "dataa_dim = dataa.shape\n",
        "kernel_dim = kernel.shape"
      ],
      "metadata": {
        "id": "y-uc2oPJg4-N"
      },
      "execution_count": 3,
      "outputs": []
    },
    {
      "cell_type": "code",
      "source": [
        "test = convolution(dataa, kernel)\n",
        "test = relu(test)\n",
        "test = max_pooling(test, 2)\n",
        "test = flat(test)\n",
        "print(test)"
      ],
      "metadata": {
        "colab": {
          "base_uri": "https://localhost:8080/"
        },
        "id": "rn_m-z-3tUL6",
        "outputId": "14c89993-0452-4322-b49d-c80ae6120ba9"
      },
      "execution_count": 4,
      "outputs": [
        {
          "output_type": "stream",
          "name": "stdout",
          "text": [
            "[2. 2. 2. 2.]\n"
          ]
        }
      ]
    },
    {
      "cell_type": "code",
      "source": [],
      "metadata": {
        "id": "LboQEDyb8abT"
      },
      "execution_count": null,
      "outputs": []
    },
    {
      "cell_type": "code",
      "source": [
        "result = np.zeros((dataa_dim[0] - kernel_dim[0] + 1, dataa_dim[1] - kernel_dim[1] + 1))\n",
        "for i in range(dataa_dim[0] - kernel_dim[0] + 1):\n",
        "    for j in range(dataa_dim[1] - kernel_dim[1] + 1):\n",
        "        conv = np.sum(dataa[i:i+kernel_dim[0], j:j+kernel_dim[1]] * kernel)\n",
        "        result[i, j] = conv\n",
        "\n",
        "print(result)"
      ],
      "metadata": {
        "colab": {
          "base_uri": "https://localhost:8080/"
        },
        "collapsed": true,
        "id": "W1DMm2OZpM8K",
        "outputId": "dfb6b3de-a1d7-4f50-af62-956b6e3c42b4"
      },
      "execution_count": null,
      "outputs": [
        {
          "output_type": "stream",
          "name": "stdout",
          "text": [
            "[[0. 2. 1. 1.]\n",
            " [1. 2. 1. 2.]\n",
            " [1. 2. 1. 2.]\n",
            " [1. 1. 2. 1.]]\n"
          ]
        }
      ]
    },
    {
      "cell_type": "code",
      "source": [
        "print(dataa[0:2, 2:4])\n",
        "print(test)"
      ],
      "metadata": {
        "colab": {
          "base_uri": "https://localhost:8080/"
        },
        "id": "EhDEkFkqhvHK",
        "outputId": "abbfa4bb-da5c-4af8-bc77-8bcce6821215"
      },
      "execution_count": null,
      "outputs": [
        {
          "output_type": "stream",
          "name": "stdout",
          "text": [
            "[[1 0]\n",
            " [0 1]]\n",
            "None\n"
          ]
        }
      ]
    },
    {
      "cell_type": "code",
      "source": [
        "inputt = np.array([\n",
        "    [1, 1],\n",
        "    [1, 0],\n",
        "    [0, 1],\n",
        "    [0, 0]\n",
        "])\n",
        "\n",
        "output = np.array([0, 1, 1, 0])\n",
        "\n",
        "weight_v = np.array([\n",
        "    [ 0.2,  0.3, -0.1],\n",
        "    [ 0.3,  0.1, -0.1],\n",
        "    [-0.3,  0.3,  0.3]\n",
        "])\n",
        "\n",
        "weight_w = np.array([\n",
        "    [ 0.5],\n",
        "    [-0.3],\n",
        "    [-0.4],\n",
        "    [-0.1]\n",
        "])\n",
        "\n",
        "learn_rate = 0.999"
      ],
      "metadata": {
        "id": "AL9IjvEUV9IF"
      },
      "execution_count": null,
      "outputs": []
    },
    {
      "cell_type": "code",
      "source": [
        "def sigmoid(x):\n",
        "    return 1 / (1 + np.exp(-x))\n",
        "\n",
        "def layer_calc(data, weight):\n",
        "    w_dim = weight.shape\n",
        "    out = np.zeros((w_dim[1]))\n",
        "    for i in range(w_dim[1]):\n",
        "        out[i] = np.sum(data * weight[0:w_dim[0]-1, i]) + weight[w_dim[0]-1, i]\n",
        "        out[i] = sigmoid(out[i])\n",
        "    return out\n",
        "\n",
        "def err_calc(target, output):\n",
        "    return target - output\n",
        "\n",
        "def d_out(d_net, output):\n",
        "    out_dim = output.shape\n",
        "    res = np.zeros(out_dim[0])\n",
        "    for i in range(out_dim[0]):\n",
        "        res[i] = d_net[i] * output[i] * (1 - output[i])\n",
        "    return res\n",
        "\n",
        "def d_error(d_out, weight):\n",
        "    w_dim = weight.shape\n",
        "    res = np.zeros(w_dim[0]-1)\n",
        "    for i in range(w_dim[0]-1):\n",
        "        res[i] = d_out * weight[i]\n",
        "    return res\n",
        "\n",
        "def w_change(alp, d_out, inp):\n",
        "    in_dim = inp.shape\n",
        "    d_dim = d_out.shape\n",
        "    res = np.zeros((in_dim[0]+1, d_dim[0]))\n",
        "    for i in range(d_dim[0]):\n",
        "        for j in range(in_dim[0]):\n",
        "            res[j, i] = alp * d_out[i] * inp[j]\n",
        "        res[in_dim[0], i] = alp * d_out[i]\n",
        "    return res\n",
        "\n",
        "def w_update(weight, d_w):\n",
        "    return weight + d_w"
      ],
      "metadata": {
        "id": "o9UvGzqwYu2o"
      },
      "execution_count": null,
      "outputs": []
    },
    {
      "cell_type": "code",
      "source": [
        "data_dim = inputt.shape\n",
        "error = np.zeros((data_dim[0], 1))\n",
        "for epoch in range(500):\n",
        "    for i in range(data_dim[0]):\n",
        "        # Forward propagation\n",
        "        layer1 = layer_calc(inputt[i], weight_v)\n",
        "        layer2 = layer_calc(layer1, weight_w)\n",
        "\n",
        "        # Error calc\n",
        "        error[i] = err_calc(output[i], layer2)\n",
        "\n",
        "        # Backward propagation\n",
        "        d_lay2 = d_out(error[i], layer2)\n",
        "        d_out1 = d_error(d_lay2, weight_w)\n",
        "        d_lay1 = d_out(d_out1, layer1)\n",
        "\n",
        "        # Weight change\n",
        "        w_ch = w_change(learn_rate, d_lay2, layer1)\n",
        "        v_ch = w_change(learn_rate, d_lay1, inputt[i])\n",
        "        weight_w = w_update(weight_w, w_ch)\n",
        "        weight_v = w_update(weight_v, v_ch)\n",
        "\n",
        "    mse = np.mean(error ** 2)\n",
        "    print(mse)"
      ],
      "metadata": {
        "id": "ZiEA3aeJ2TLp"
      },
      "execution_count": null,
      "outputs": []
    },
    {
      "cell_type": "code",
      "source": [
        "for i in range(data_dim[0]):\n",
        "    # Forward propagation\n",
        "    layer1 = layer_calc(inputt[i], weight_v)\n",
        "    layer2 = layer_calc(layer1, weight_w)\n",
        "    print(layer2)"
      ],
      "metadata": {
        "colab": {
          "base_uri": "https://localhost:8080/"
        },
        "id": "hveODpopBRLh",
        "outputId": "e7eaea6f-e122-4330-d00b-6322b0347f94"
      },
      "execution_count": null,
      "outputs": [
        {
          "output_type": "stream",
          "name": "stdout",
          "text": [
            "[0.05063533]\n",
            "[0.95378746]\n",
            "[0.97253131]\n",
            "[0.03137281]\n"
          ]
        }
      ]
    }
  ]
}