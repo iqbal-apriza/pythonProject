{
 "cells": [
  {
   "cell_type": "code",
   "execution_count": null,
   "id": "dd331683",
   "metadata": {},
   "outputs": [],
   "source": [
    "import numpy as np\n",
    "import pandas as pd\n",
    "import matplotlib.pyplot as plt\n",
    "from sklearn.model_selection import train_test_split"
   ]
  },
  {
   "cell_type": "code",
   "execution_count": null,
   "id": "1c291816",
   "metadata": {},
   "outputs": [],
   "source": [
    "df = pd.read_csv(\"StressLevelDataset.csv\")\n",
    "inputs = df.drop(columns=[\"stress_level\"])\n",
    "target = df[\"stress_level\"]\n",
    "\n",
    "X_train, X_test, y_train, y_test = train_test_split(inputs, target, random_state=0, train_size=0.8)\n",
    "\n",
    "num_rows = X_train.shape[0]\n",
    "num_cols = X_train.shape[1]"
   ]
  },
  {
   "cell_type": "code",
   "execution_count": null,
   "id": "7b7a0e32",
   "metadata": {},
   "outputs": [],
   "source": [
    "def sigmoid(x):\n",
    "    return 1 / (1 + np.exp(-x))\n",
    "\n",
    "def sigmoid_deriv(x):\n",
    "    return x * (1 - x)\n",
    "\n",
    "def mse(target, output):\n",
    "    return np.average((output - target) ** 2)"
   ]
  },
  {
   "cell_type": "code",
   "execution_count": null,
   "id": "87888187",
   "metadata": {},
   "outputs": [],
   "source": [
    "num_neurons = 10\n",
    "\n",
    "weight_v = np.random.uniform(-0.5, 0.5, size=(num_cols + 1, num_neurons))\n",
    "weight_w = np.random.uniform(-0.5, 0.5, size=(num_neurons + 1, 1))\n",
    "\n",
    "learn_rate = 0.1"
   ]
  },
  {
   "cell_type": "code",
   "execution_count": null,
   "id": "0cb48b79",
   "metadata": {},
   "outputs": [],
   "source": [
    "print(num_cols+1)\n",
    "print(weight_v.shape)"
   ]
  },
  {
   "cell_type": "code",
   "execution_count": null,
   "id": "2eff7c2e",
   "metadata": {},
   "outputs": [],
   "source": [
    "while 1:\n",
    "    output = np.zeros(num_rows)\n",
    "    for i in range(num_rows):\n",
    "        # Forward Propagation\n",
    "        net_out = weight_v[0] + np.dot(X_train.iloc[i].T, weight_v[1:])\n",
    "        hidden_out = sigmoid(net_out)\n",
    "        \n",
    "        net_out = weight_w[0] + np.dot(hidden_out.T, weight_w[1:])\n",
    "        output[i] = sigmoid(net_out)\n",
    "\n",
    "        # Back Propagation\n",
    "        error = y_train.iloc[i] - output[i]\n",
    "        d_error = error * sigmoid_deriv(output[i])\n",
    "\n",
    "        error_hidden = d_error * weight_w[1:]\n",
    "        d_hidden = error_hidden.T * sigmoid_deriv(hidden_out)\n",
    "\n",
    "        # Weight Change\n",
    "        hidden_out_reshape = hidden_out.reshape(-1, 1)\n",
    "        d_hidden_reshape = d_hidden.reshape(-1, 1)\n",
    "\n",
    "        weight_w[0] += learn_rate * d_error\n",
    "        weight_w[1:] += learn_rate * d_error * hidden_out_reshape\n",
    "\n",
    "        weight_v[0] += learn_rate * d_hidden.flatten()\n",
    "        weight_v[1:] += learn_rate * X_train.iloc[i].to_numpy().reshape(-1, 1) @ d_hidden_reshape.T\n",
    "\n",
    "    total_error = mse(y_train, output)\n",
    "    print(total_error)\n",
    "    if total_error < 0.1:\n",
    "        break\n",
    "\n",
    "    # break"
   ]
  },
  {
   "cell_type": "code",
   "execution_count": null,
   "id": "193ecfcd",
   "metadata": {},
   "outputs": [],
   "source": [
    "while 1:\n",
    "    for i in range (1):\n",
    "        net_out = np.zeros(num_neurons)\n",
    "        for j in range(num_neurons):\n",
    "            sum = 0\n",
    "            for k in range(num_cols):\n",
    "                sum += X_train.iloc[i][k] * weight_v[k+1][j]\n",
    "            net_out[j] = weight_v[0][j] + sum\n",
    "\n",
    "    print(net_out)\n",
    "\n",
    "    break"
   ]
  },
  {
   "cell_type": "code",
   "execution_count": 1,
   "id": "ce76f4ea",
   "metadata": {},
   "outputs": [
    {
     "name": "stdout",
     "output_type": "stream",
     "text": [
      "[[ 0.35355339  0.35355339  0.25      ]\n",
      " [ 0.35355339 -0.35355339  0.25      ]\n",
      " [-0.35355339  0.35355339  0.25      ]\n",
      " [-0.35355339 -0.35355339  0.25      ]]\n"
     ]
    }
   ],
   "source": [
    "import numpy as np\n",
    "\n",
    "# Define the matrix A\n",
    "c = s = np.sqrt(2) / 2\n",
    "A = np.array([\n",
    "    [ c,  c, -c, -c],\n",
    "    [ s, -s,  s, -s],\n",
    "    [ 1,  1,  1,  1]\n",
    "])\n",
    "\n",
    "# Compute pseudoinverse\n",
    "A_pseudo = A.T @ np.linalg.inv(A @ A.T)\n",
    "\n",
    "print(A_pseudo)\n",
    "\n",
    "# # Input velocity vector\n",
    "# V = np.array([x, y, omega])  # Replace with actual values\n",
    "\n",
    "# # Compute motor speeds\n",
    "# M = A_pseudo @ V\n"
   ]
  }
 ],
 "metadata": {
  "kernelspec": {
   "display_name": ".venv",
   "language": "python",
   "name": "python3"
  },
  "language_info": {
   "codemirror_mode": {
    "name": "ipython",
    "version": 3
   },
   "file_extension": ".py",
   "mimetype": "text/x-python",
   "name": "python",
   "nbconvert_exporter": "python",
   "pygments_lexer": "ipython3",
   "version": "3.12.3"
  }
 },
 "nbformat": 4,
 "nbformat_minor": 5
}
